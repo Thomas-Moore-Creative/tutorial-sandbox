{
 "cells": [
  {
   "cell_type": "markdown",
   "id": "d963ae04-519f-4e3e-b40d-8a3ee7a4c8b1",
   "metadata": {
    "Collapsed": "false"
   },
   "source": [
    "# PyCWT tutorial\n",
    "> 15/06/2021<br>\n",
    "> Thomas.Moore@csiro.au<br>\n",
    "> https://pycwt.readthedocs.io/en/latest/tutorial.html<br>"
   ]
  },
  {
   "cell_type": "markdown",
   "id": "e22293b3-9c86-4060-a1f2-65be68252a4b",
   "metadata": {},
   "source": [
    "---"
   ]
  },
  {
   "cell_type": "markdown",
   "id": "d7608974-1d9f-42ed-9665-c5bb07ea1496",
   "metadata": {
    "Collapsed": "false"
   },
   "source": [
    "# SETUP"
   ]
  },
  {
   "cell_type": "markdown",
   "id": "802359fe-5a74-4d31-ae02-ccd199c6e665",
   "metadata": {
    "Collapsed": "false"
   },
   "source": [
    "## define cluster now"
   ]
  },
  {
   "cell_type": "code",
   "execution_count": 1,
   "id": "738023b9-f896-4d84-86a8-445bdece172e",
   "metadata": {
    "Collapsed": "false"
   },
   "outputs": [],
   "source": [
    "# define cluster\n",
    "from dask_jobqueue import SLURMCluster\n",
    "cluster = SLURMCluster(cores=2,\n",
    "                       memory=\"12GB\",\n",
    "                       walltime=\"1:00:00\",\n",
    "                       job_extra=['--qos=\"express\"'],\n",
    "                       processes=1\n",
    "                      )"
   ]
  },
  {
   "cell_type": "code",
   "execution_count": 2,
   "id": "24eff566-399c-4236-aa37-c3cbfa5362a8",
   "metadata": {},
   "outputs": [],
   "source": [
    "# spinup cluster\n",
    "#how many workers do you want?\n",
    "cluster.scale_up(n=7)"
   ]
  },
  {
   "cell_type": "code",
   "execution_count": 3,
   "id": "b61312d7-bd54-40b5-affb-17d72b46ad62",
   "metadata": {},
   "outputs": [],
   "source": [
    "# setup the scheduler in this notebook.\n",
    "from distributed import Client\n",
    "client = Client(cluster)"
   ]
  },
  {
   "cell_type": "code",
   "execution_count": 5,
   "id": "f36a96bb-2a43-4b22-8248-aad7fbd8aea2",
   "metadata": {
    "Collapsed": "false"
   },
   "outputs": [
    {
     "data": {
      "text/html": [
       "<table style=\"border: 2px solid white;\">\n",
       "<tr>\n",
       "<td style=\"vertical-align: top; border: 0px solid white\">\n",
       "<h3 style=\"text-align: left;\">Client</h3>\n",
       "<ul style=\"text-align: left; list-style: none; margin: 0; padding: 0;\">\n",
       "  <li><b>Scheduler: </b>tcp://10.141.1.22:41351</li>\n",
       "  <li><b>Dashboard: </b><a href='http://10.141.1.22:8787/status' target='_blank'>http://10.141.1.22:8787/status</a></li>\n",
       "</ul>\n",
       "</td>\n",
       "<td style=\"vertical-align: top; border: 0px solid white\">\n",
       "<h3 style=\"text-align: left;\">Cluster</h3>\n",
       "<ul style=\"text-align: left; list-style:none; margin: 0; padding: 0;\">\n",
       "  <li><b>Workers: </b>7</li>\n",
       "  <li><b>Cores: </b>14</li>\n",
       "  <li><b>Memory: </b>78.26 GiB</li>\n",
       "</ul>\n",
       "</td>\n",
       "</tr>\n",
       "</table>"
      ],
      "text/plain": [
       "<Client: 'tcp://10.141.1.22:41351' processes=7 threads=14, memory=78.26 GiB>"
      ]
     },
     "execution_count": 5,
     "metadata": {},
     "output_type": "execute_result"
    }
   ],
   "source": [
    "client"
   ]
  },
  {
   "cell_type": "code",
   "execution_count": 1,
   "id": "4dbb52d9-f5fd-4481-9583-a92b09802a7d",
   "metadata": {},
   "outputs": [],
   "source": [
    "from __future__ import division\n",
    "import numpy\n",
    "from matplotlib import pyplot\n",
    "\n",
    "import pycwt as wavelet\n",
    "from pycwt.helpers import find"
   ]
  },
  {
   "cell_type": "markdown",
   "id": "63607a9a-b6a9-4cdb-a2a3-db97d3576b70",
   "metadata": {},
   "source": [
    "## load the dataset and define some data related parameters. In this case, the first 19 lines of the data file contain meta-data, that we ignore, since we set them manually (i.e. title, units)."
   ]
  },
  {
   "cell_type": "code",
   "execution_count": 2,
   "id": "fc278cbf-281c-427b-95b6-b9014365e018",
   "metadata": {},
   "outputs": [],
   "source": [
    "file = '/home/moo270/work/observations/nino3sst.txt'\n",
    "dat = numpy.genfromtxt(file, skip_header=19)"
   ]
  },
  {
   "cell_type": "code",
   "execution_count": 3,
   "id": "c7842222-04e5-42e6-a82f-b8faea125343",
   "metadata": {},
   "outputs": [],
   "source": [
    "title = 'NINO3 Sea Surface Temperature'\n",
    "label = 'NINO3 SST'\n",
    "units = 'degC'\n",
    "t0 = 1871.0\n",
    "dt = 0.25  # In years"
   ]
  },
  {
   "cell_type": "code",
   "execution_count": 4,
   "id": "5a729afd-f581-4acc-ba1b-19fdb01fc8c9",
   "metadata": {},
   "outputs": [],
   "source": [
    "# We also create a time array in years.\n",
    "N = dat.size\n",
    "t = numpy.arange(0, N) * dt + t0"
   ]
  },
  {
   "cell_type": "markdown",
   "id": "7814f1a7-b5da-4fcb-b99f-cf392ad3aeda",
   "metadata": {},
   "source": [
    "### We write the following code to detrend and normalize the input data by its standard deviation. Sometimes detrending is not necessary and simply removing the mean value is good enough. However, if your dataset has a well defined trend it is strongly advised to perform detrending. Here, we fit a one-degree polynomial function and then subtract it from the original data."
   ]
  },
  {
   "cell_type": "code",
   "execution_count": 23,
   "id": "59c05ef8-6d42-42fe-9994-2c283fd6f3e2",
   "metadata": {},
   "outputs": [],
   "source": [
    "p = numpy.polyfit(t - t0, dat, 1)\n",
    "dat_notrend = dat - numpy.polyval(p, t - t0)\n",
    "std = dat_notrend.std()  # Standard deviation\n",
    "var = std ** 2  # Variance\n",
    "dat_norm = dat_notrend / std  # Normalized dataset"
   ]
  },
  {
   "cell_type": "markdown",
   "id": "6314bcf8-d7b2-4089-a48e-8b59513b764c",
   "metadata": {},
   "source": [
    "### The next step is to define some parameters of our wavelet analysis. We select the mother wavelet, in this case the Morlet wavelet with ω0=6."
   ]
  },
  {
   "cell_type": "code",
   "execution_count": null,
   "id": "1719f0ff-433f-4fc1-b311-0afd74b97df0",
   "metadata": {},
   "outputs": [],
   "source": [
    "mother = wavelet.Morlet(6)\n",
    "s0 = 2 * dt  # Starting scale, in this case 2 * 0.25 years = 6 months\n",
    "dj = 1 / 12  # Twelve sub-octaves per octaves\n",
    "J = 7 / dj  # Seven powers of two with dj sub-octaves\n",
    "alpha, _, _ = wavelet.ar1(dat)  # Lag-1 autocorrelation for red noise"
   ]
  },
  {
   "cell_type": "code",
   "execution_count": null,
   "id": "7bebf9a2-8981-4311-9d9c-42832e750f9c",
   "metadata": {},
   "outputs": [],
   "source": []
  },
  {
   "cell_type": "code",
   "execution_count": null,
   "id": "861157a5-90ba-4421-8028-11277e1bbe98",
   "metadata": {},
   "outputs": [],
   "source": []
  },
  {
   "cell_type": "code",
   "execution_count": null,
   "id": "a484e8dc-a72c-4bb0-b088-636023b28ba2",
   "metadata": {},
   "outputs": [],
   "source": []
  },
  {
   "cell_type": "code",
   "execution_count": null,
   "id": "fd8ab8f3-d17a-4b7e-ad22-44f36a0037b5",
   "metadata": {},
   "outputs": [],
   "source": []
  },
  {
   "cell_type": "markdown",
   "id": "dfe2f1a2-fd51-4bda-8c9f-87b026bbad46",
   "metadata": {
    "Collapsed": "false"
   },
   "source": [
    "## Load tools"
   ]
  },
  {
   "cell_type": "code",
   "execution_count": 5,
   "id": "a7e93669-bb8d-48e9-8923-c8936b660033",
   "metadata": {
    "Collapsed": "false"
   },
   "outputs": [],
   "source": [
    "#Pangeo toolset\n",
    "import xarray as xr\n",
    "import dask as dask\n",
    "\n",
    "#Basics\n",
    "import math\n",
    "import numpy as np\n",
    "import scipy\n",
    "import datetime\n",
    "import pandas as pd\n",
    "from datetime import datetime as dt\n",
    "import os\n",
    "\n",
    "#Plotting\n",
    "#import seaborn as sns\n",
    "import matplotlib as mpl\n",
    "import matplotlib.pyplot as plt\n",
    "from matplotlib.offsetbox import AnchoredText\n",
    "import matplotlib.patches as patches\n",
    "#import proplot as pplot\n",
    "#import cmocean\n",
    "#import cmocean.cm as cmo\n",
    "#import xcmocean\n",
    "from cartopy import crs as ccrs\n",
    "import cartopy.feature as cfeature\n",
    "import matplotlib.ticker as mticker\n",
    "from cartopy.mpl.gridliner import LONGITUDE_FORMATTER, LATITUDE_FORMATTER\n",
    "import nc_time_axis\n",
    "\n",
    "import matplotlib.dates as mdates\n",
    "from matplotlib.dates import DateFormatter\n",
    "\n",
    "from copy import copy\n",
    "\n",
    "\n",
    "import dask.dataframe as dd\n",
    "\n",
    "#reload local functions\n",
    "import importlib\n",
    "\n",
    "#xgcm\n",
    "#import xgcm\n",
    "\n",
    "#xesmf\n",
    "#import xesmf as xesmf\n",
    "\n",
    "# turn off warnings\n",
    "import warnings\n",
    "warnings.filterwarnings(\"ignore\")\n",
    "\n",
    "#rechunker\n",
    "from rechunker import rechunk\n",
    "\n",
    "%matplotlib inline\n",
    "\n",
    "#local path imports\n",
    "import xcache as xc\n"
   ]
  },
  {
   "cell_type": "code",
   "execution_count": 6,
   "id": "027082aa-e6e3-4aab-8ad7-bc4635a784db",
   "metadata": {
    "Collapsed": "false"
   },
   "outputs": [
    {
     "data": {
      "text/plain": [
       "<module 'ACCESS_D_preprocess_helper' from '/OSM/CBR/OA_DCFP/work/moo270/code/ACCESS_D_preprocess/notebooks/ACCESS_D_preprocess_helper.py'>"
      ]
     },
     "execution_count": 6,
     "metadata": {},
     "output_type": "execute_result"
    }
   ],
   "source": [
    "#local functions\n",
    "import ACCESS_D_preprocess_helper as helper\n",
    "importlib.reload(helper)"
   ]
  }
 ],
 "metadata": {
  "kernelspec": {
   "display_name": "Python pangeo_PyCWT",
   "language": "python",
   "name": "pangeo_pycwt"
  },
  "language_info": {
   "codemirror_mode": {
    "name": "ipython",
    "version": 3
   },
   "file_extension": ".py",
   "mimetype": "text/x-python",
   "name": "python",
   "nbconvert_exporter": "python",
   "pygments_lexer": "ipython3",
   "version": "3.9.4"
  }
 },
 "nbformat": 4,
 "nbformat_minor": 5
}
